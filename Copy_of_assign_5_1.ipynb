{
  "cells": [
    {
      "cell_type": "markdown",
      "metadata": {
        "id": "view-in-github",
        "colab_type": "text"
      },
      "source": [
        "<a href=\"https://colab.research.google.com/github/Aryan18k/Stock-Value-Prediction-by-LSTM/blob/master/Copy_of_assign_5_1.ipynb\" target=\"_parent\"><img src=\"https://colab.research.google.com/assets/colab-badge.svg\" alt=\"Open In Colab\"/></a>"
      ]
    },
    {
      "cell_type": "code",
      "execution_count": null,
      "metadata": {
        "id": "P0AnvIknfHdY"
      },
      "outputs": [],
      "source": [
        "import tensorflow as tf\n",
        "from tensorflow import keras\n",
        "from tensorflow.keras import layers\n",
        "import pandas as pd\n",
        "import numpy as np\n",
        "import matplotlib.pyplot as plt\n",
        "from sklearn.metrics import accuracy_score,precision_score,recall_score,f1_score,confusion_matrix,classification_report\n",
        "%matplotlib inline\n"
      ]
    },
    {
      "cell_type": "code",
      "execution_count": null,
      "metadata": {
        "colab": {
          "base_uri": "https://localhost:8080/",
          "height": 36
        },
        "id": "VxPj_gRsBOF6",
        "outputId": "e44ff1dd-deb8-410c-a855-3af53c7bd211"
      },
      "outputs": [
        {
          "output_type": "execute_result",
          "data": {
            "text/plain": [
              "'2.12.0'"
            ],
            "application/vnd.google.colaboratory.intrinsic+json": {
              "type": "string"
            }
          },
          "metadata": {},
          "execution_count": 2
        }
      ],
      "source": [
        "tf.__version__"
      ]
    },
    {
      "cell_type": "code",
      "execution_count": null,
      "metadata": {
        "colab": {
          "base_uri": "https://localhost:8080/",
          "height": 36
        },
        "id": "EmYVUTn7BOF7",
        "outputId": "98cd86a0-aab0-4533-993f-55c8af0d795b"
      },
      "outputs": [
        {
          "output_type": "execute_result",
          "data": {
            "text/plain": [
              "'2.12.0'"
            ],
            "application/vnd.google.colaboratory.intrinsic+json": {
              "type": "string"
            }
          },
          "metadata": {},
          "execution_count": 3
        }
      ],
      "source": [
        "keras.__version__"
      ]
    },
    {
      "cell_type": "code",
      "execution_count": null,
      "metadata": {
        "id": "QZ6mxLwo9go_",
        "colab": {
          "base_uri": "https://localhost:8080/"
        },
        "outputId": "b823c2ed-0437-4b76-917b-9b550c8ee95a"
      },
      "outputs": [
        {
          "output_type": "stream",
          "name": "stdout",
          "text": [
            "Downloading data from https://storage.googleapis.com/tensorflow/tf-keras-datasets/train-labels-idx1-ubyte.gz\n",
            "29515/29515 [==============================] - 0s 0us/step\n",
            "Downloading data from https://storage.googleapis.com/tensorflow/tf-keras-datasets/train-images-idx3-ubyte.gz\n",
            "26421880/26421880 [==============================] - 0s 0us/step\n",
            "Downloading data from https://storage.googleapis.com/tensorflow/tf-keras-datasets/t10k-labels-idx1-ubyte.gz\n",
            "5148/5148 [==============================] - 0s 0us/step\n",
            "Downloading data from https://storage.googleapis.com/tensorflow/tf-keras-datasets/t10k-images-idx3-ubyte.gz\n",
            "4422102/4422102 [==============================] - 0s 0us/step\n"
          ]
        }
      ],
      "source": [
        "fashion_mnist = tf.keras.datasets.fashion_mnist.load_data()\n",
        "(X_train_full, y_train_full), (X_test, y_test) = fashion_mnist\n",
        "X_train, y_train = X_train_full[:-5000], y_train_full[:-5000]\n",
        "X_valid, y_valid = X_train_full[-5000:], y_train_full[-5000:]"
      ]
    },
    {
      "cell_type": "code",
      "execution_count": null,
      "metadata": {
        "id": "o40kEQc13oYc"
      },
      "outputs": [],
      "source": [
        "X_train, X_valid, X_test = X_train / 255., X_valid / 255., X_test / 255.\n",
        "class_names = [\"T-shirt/top\", \"Trouser\", \"Pullover\", \"Dress\", \"Coat\",\n",
        " \"Sandal\", \"Shirt\", \"Sneaker\", \"Bag\", \"Ankle boot\"]"
      ]
    },
    {
      "cell_type": "code",
      "execution_count": null,
      "metadata": {
        "colab": {
          "base_uri": "https://localhost:8080/"
        },
        "id": "nKEBOO1eBOF9",
        "outputId": "0ed941e1-8148-4e4f-93c5-cd3d2ccc2931"
      },
      "outputs": [
        {
          "output_type": "execute_result",
          "data": {
            "text/plain": [
              "(55000, 28, 28)"
            ]
          },
          "metadata": {},
          "execution_count": 6
        }
      ],
      "source": [
        "X_train.shape"
      ]
    },
    {
      "cell_type": "code",
      "execution_count": null,
      "metadata": {
        "colab": {
          "base_uri": "https://localhost:8080/"
        },
        "id": "Bl_t-uDYBOF-",
        "outputId": "881f229a-ad77-458c-efe6-7aba35cf2465"
      },
      "outputs": [
        {
          "output_type": "execute_result",
          "data": {
            "text/plain": [
              "(10000, 28, 28)"
            ]
          },
          "metadata": {},
          "execution_count": 7
        }
      ],
      "source": [
        "X_test.shape"
      ]
    },
    {
      "cell_type": "code",
      "execution_count": null,
      "metadata": {
        "id": "-ps5p_ww30ov"
      },
      "outputs": [],
      "source": [
        "model = tf.keras.Sequential([\n",
        "    tf.keras.layers.Flatten(input_shape=[28, 28]),\n",
        "    tf.keras.layers.Dense(300, activation=\"relu\"),\n",
        "    tf.keras.layers.Dense(100, activation=\"relu\"),\n",
        "    tf.keras.layers.Dense(10, activation=\"softmax\")\n",
        "])"
      ]
    },
    {
      "cell_type": "code",
      "execution_count": null,
      "metadata": {
        "colab": {
          "base_uri": "https://localhost:8080/"
        },
        "id": "K2rhFrUQ08aI",
        "outputId": "28bbc930-2988-4fd2-b52e-af497bbfffc3"
      },
      "outputs": [
        {
          "output_type": "stream",
          "name": "stdout",
          "text": [
            "Model: \"sequential\"\n",
            "_________________________________________________________________\n",
            " Layer (type)                Output Shape              Param #   \n",
            "=================================================================\n",
            " flatten (Flatten)           (None, 784)               0         \n",
            "                                                                 \n",
            " dense (Dense)               (None, 300)               235500    \n",
            "                                                                 \n",
            " dense_1 (Dense)             (None, 100)               30100     \n",
            "                                                                 \n",
            " dense_2 (Dense)             (None, 10)                1010      \n",
            "                                                                 \n",
            "=================================================================\n",
            "Total params: 266,610\n",
            "Trainable params: 266,610\n",
            "Non-trainable params: 0\n",
            "_________________________________________________________________\n"
          ]
        }
      ],
      "source": [
        "model.summary()"
      ]
    },
    {
      "cell_type": "code",
      "execution_count": null,
      "metadata": {
        "colab": {
          "base_uri": "https://localhost:8080/"
        },
        "id": "wuAsTWFgBOGA",
        "outputId": "cbc2cd0e-2f8f-4509-cbab-b2bda5ebd5b8"
      },
      "outputs": [
        {
          "output_type": "execute_result",
          "data": {
            "text/plain": [
              "[<keras.layers.reshaping.flatten.Flatten at 0x7f5eb91bbe80>,\n",
              " <keras.layers.core.dense.Dense at 0x7f5e31f209d0>,\n",
              " <keras.layers.core.dense.Dense at 0x7f5e31f202e0>,\n",
              " <keras.layers.core.dense.Dense at 0x7f5e31f20670>]"
            ]
          },
          "metadata": {},
          "execution_count": 10
        }
      ],
      "source": [
        "model.layers"
      ]
    },
    {
      "cell_type": "code",
      "execution_count": null,
      "metadata": {
        "id": "SU6jy6obBOGA"
      },
      "outputs": [],
      "source": [
        "hidden=model.layers[1]"
      ]
    },
    {
      "cell_type": "code",
      "execution_count": null,
      "metadata": {
        "id": "cMRjt-FWBOGB"
      },
      "outputs": [],
      "source": [
        "weights, biases = hidden.get_weights()"
      ]
    },
    {
      "cell_type": "code",
      "execution_count": null,
      "metadata": {
        "colab": {
          "base_uri": "https://localhost:8080/"
        },
        "id": "Il8IaeKBBOGB",
        "outputId": "70dcd471-2edb-433b-c54c-d5f6c0942aac"
      },
      "outputs": [
        {
          "output_type": "execute_result",
          "data": {
            "text/plain": [
              "(784, 300)"
            ]
          },
          "metadata": {},
          "execution_count": 13
        }
      ],
      "source": [
        "weights.shape"
      ]
    },
    {
      "cell_type": "code",
      "execution_count": null,
      "metadata": {
        "colab": {
          "base_uri": "https://localhost:8080/"
        },
        "id": "nSw8sm3YBOGC",
        "outputId": "a8360e7d-f2ce-4690-b96e-7917f246e50c"
      },
      "outputs": [
        {
          "output_type": "execute_result",
          "data": {
            "text/plain": [
              "(300,)"
            ]
          },
          "metadata": {},
          "execution_count": 14
        }
      ],
      "source": [
        "biases.shape"
      ]
    },
    {
      "cell_type": "code",
      "execution_count": null,
      "metadata": {
        "id": "hwTJZNYiBOGC"
      },
      "outputs": [],
      "source": [
        "model.compile(loss=\"sparse_categorical_crossentropy\",\n",
        " optimizer=\"sgd\",\n",
        " metrics=[\"accuracy\"])\n"
      ]
    },
    {
      "cell_type": "code",
      "execution_count": null,
      "metadata": {
        "id": "1DieVsIuBOGD"
      },
      "outputs": [],
      "source": [
        "class TimeHistory(tf.keras.callbacks.Callback):\n",
        "    def on_train_begin(self, logs={}):\n",
        "        self.times_cpu = []\n",
        "        self.times_wall = []\n",
        "\n",
        "    def on_epoch_begin(self, batch, logs={}):\n",
        "        self.epoch_time_start = time.process_time()\n",
        "        self.epoch_wall_start = time.time()\n",
        "\n",
        "    def on_epoch_end(self, batch, logs={}):\n",
        "        self.times_cpu.append(time.process_time() - self.epoch_time_start)\n",
        "        self.times_wall.append(time.time() - self.epoch_wall_start)"
      ]
    },
    {
      "cell_type": "code",
      "execution_count": null,
      "metadata": {
        "colab": {
          "base_uri": "https://localhost:8080/"
        },
        "id": "WonBeqJeBOGD",
        "outputId": "83aa357e-2d01-4a81-ac1b-d7ea2c7c5f01"
      },
      "outputs": [
        {
          "output_type": "stream",
          "name": "stdout",
          "text": [
            "Epoch 1/30\n",
            "1719/1719 [==============================] - 11s 3ms/step - loss: 0.7145 - accuracy: 0.7637 - val_loss: 0.5187 - val_accuracy: 0.8164\n",
            "Epoch 2/30\n",
            "1719/1719 [==============================] - 6s 4ms/step - loss: 0.4876 - accuracy: 0.8304 - val_loss: 0.4645 - val_accuracy: 0.8320\n",
            "Epoch 3/30\n",
            "1719/1719 [==============================] - 5s 3ms/step - loss: 0.4440 - accuracy: 0.8438 - val_loss: 0.4250 - val_accuracy: 0.8494\n",
            "Epoch 4/30\n",
            "1719/1719 [==============================] - 6s 4ms/step - loss: 0.4177 - accuracy: 0.8524 - val_loss: 0.4211 - val_accuracy: 0.8442\n",
            "Epoch 5/30\n",
            "1719/1719 [==============================] - 5s 3ms/step - loss: 0.3974 - accuracy: 0.8611 - val_loss: 0.4011 - val_accuracy: 0.8590\n",
            "Epoch 6/30\n",
            "1719/1719 [==============================] - 7s 4ms/step - loss: 0.3814 - accuracy: 0.8664 - val_loss: 0.3840 - val_accuracy: 0.8604\n",
            "Epoch 7/30\n",
            "1719/1719 [==============================] - 5s 3ms/step - loss: 0.3667 - accuracy: 0.8714 - val_loss: 0.3909 - val_accuracy: 0.8630\n",
            "Epoch 8/30\n",
            "1719/1719 [==============================] - 6s 3ms/step - loss: 0.3557 - accuracy: 0.8745 - val_loss: 0.3552 - val_accuracy: 0.8728\n",
            "Epoch 9/30\n",
            "1719/1719 [==============================] - 5s 3ms/step - loss: 0.3447 - accuracy: 0.8780 - val_loss: 0.3667 - val_accuracy: 0.8696\n",
            "Epoch 10/30\n",
            "1719/1719 [==============================] - 6s 4ms/step - loss: 0.3356 - accuracy: 0.8815 - val_loss: 0.3479 - val_accuracy: 0.8748\n",
            "Epoch 11/30\n",
            "1719/1719 [==============================] - 5s 3ms/step - loss: 0.3261 - accuracy: 0.8832 - val_loss: 0.3556 - val_accuracy: 0.8742\n",
            "Epoch 12/30\n",
            "1719/1719 [==============================] - 6s 4ms/step - loss: 0.3174 - accuracy: 0.8866 - val_loss: 0.3490 - val_accuracy: 0.8720\n",
            "Epoch 13/30\n",
            "1719/1719 [==============================] - 6s 3ms/step - loss: 0.3103 - accuracy: 0.8888 - val_loss: 0.3598 - val_accuracy: 0.8698\n",
            "Epoch 14/30\n",
            "1719/1719 [==============================] - 6s 3ms/step - loss: 0.3033 - accuracy: 0.8919 - val_loss: 0.3310 - val_accuracy: 0.8774\n",
            "Epoch 15/30\n",
            "1719/1719 [==============================] - 6s 3ms/step - loss: 0.2958 - accuracy: 0.8949 - val_loss: 0.3347 - val_accuracy: 0.8800\n",
            "Epoch 16/30\n",
            "1719/1719 [==============================] - 5s 3ms/step - loss: 0.2907 - accuracy: 0.8956 - val_loss: 0.3435 - val_accuracy: 0.8710\n",
            "Epoch 17/30\n",
            "1719/1719 [==============================] - 6s 4ms/step - loss: 0.2837 - accuracy: 0.8983 - val_loss: 0.3481 - val_accuracy: 0.8730\n",
            "Epoch 18/30\n",
            "1719/1719 [==============================] - 5s 3ms/step - loss: 0.2784 - accuracy: 0.9002 - val_loss: 0.3460 - val_accuracy: 0.8734\n",
            "Epoch 19/30\n",
            "1719/1719 [==============================] - 6s 4ms/step - loss: 0.2727 - accuracy: 0.9024 - val_loss: 0.3254 - val_accuracy: 0.8810\n",
            "Epoch 20/30\n",
            "1719/1719 [==============================] - 5s 3ms/step - loss: 0.2683 - accuracy: 0.9040 - val_loss: 0.3265 - val_accuracy: 0.8790\n",
            "Epoch 21/30\n",
            "1719/1719 [==============================] - 6s 3ms/step - loss: 0.2628 - accuracy: 0.9061 - val_loss: 0.3197 - val_accuracy: 0.8820\n",
            "Epoch 22/30\n",
            "1719/1719 [==============================] - 5s 3ms/step - loss: 0.2579 - accuracy: 0.9076 - val_loss: 0.3127 - val_accuracy: 0.8842\n",
            "Epoch 23/30\n",
            "1719/1719 [==============================] - 6s 4ms/step - loss: 0.2531 - accuracy: 0.9093 - val_loss: 0.3276 - val_accuracy: 0.8828\n",
            "Epoch 24/30\n",
            "1719/1719 [==============================] - 5s 3ms/step - loss: 0.2485 - accuracy: 0.9105 - val_loss: 0.3184 - val_accuracy: 0.8858\n",
            "Epoch 25/30\n",
            "1719/1719 [==============================] - 6s 4ms/step - loss: 0.2441 - accuracy: 0.9126 - val_loss: 0.3259 - val_accuracy: 0.8790\n",
            "Epoch 26/30\n",
            "1719/1719 [==============================] - 5s 3ms/step - loss: 0.2399 - accuracy: 0.9140 - val_loss: 0.3277 - val_accuracy: 0.8832\n",
            "Epoch 27/30\n",
            "1719/1719 [==============================] - 6s 3ms/step - loss: 0.2359 - accuracy: 0.9153 - val_loss: 0.3071 - val_accuracy: 0.8836\n",
            "Epoch 28/30\n",
            "1719/1719 [==============================] - 6s 4ms/step - loss: 0.2322 - accuracy: 0.9176 - val_loss: 0.3184 - val_accuracy: 0.8864\n",
            "Epoch 29/30\n",
            "1719/1719 [==============================] - 9s 5ms/step - loss: 0.2282 - accuracy: 0.9179 - val_loss: 0.3086 - val_accuracy: 0.8888\n",
            "Epoch 30/30\n",
            "1719/1719 [==============================] - 12s 7ms/step - loss: 0.2236 - accuracy: 0.9195 - val_loss: 0.3052 - val_accuracy: 0.8896\n"
          ]
        }
      ],
      "source": [
        "import time\n",
        "callbacks=TimeHistory()\n",
        "cpu_start_time = time.process_time()\n",
        "wall_start_time = time.time()\n",
        "history = model.fit(X_train, y_train, epochs=30,\n",
        "                 validation_data=(X_valid, y_valid), callbacks = [callbacks])\n",
        "cpu_end_time = time.process_time()\n",
        "wall_end_time = time.time()"
      ]
    },
    {
      "cell_type": "code",
      "execution_count": null,
      "metadata": {
        "colab": {
          "base_uri": "https://localhost:8080/"
        },
        "id": "HpSlBDLsBOGE",
        "outputId": "86da7838-3386-4f46-8564-8a23457c9e51"
      },
      "outputs": [
        {
          "output_type": "stream",
          "name": "stdout",
          "text": [
            "Epoch 0\n",
            "CPU time: 8.71s, Wall time: 11.03s\n",
            "Epoch 1\n",
            "CPU time: 6.95s, Wall time: 6.05s\n",
            "Epoch 2\n",
            "CPU time: 6.84s, Wall time: 5.29s\n",
            "Epoch 3\n",
            "CPU time: 6.97s, Wall time: 6.08s\n",
            "Epoch 4\n",
            "CPU time: 6.86s, Wall time: 5.35s\n",
            "Epoch 5\n",
            "CPU time: 6.91s, Wall time: 6.73s\n",
            "Epoch 6\n",
            "CPU time: 6.79s, Wall time: 5.28s\n",
            "Epoch 7\n",
            "CPU time: 6.97s, Wall time: 6.01s\n",
            "Epoch 8\n",
            "CPU time: 6.73s, Wall time: 5.20s\n",
            "Epoch 9\n",
            "CPU time: 6.90s, Wall time: 6.16s\n",
            "Epoch 10\n",
            "CPU time: 6.76s, Wall time: 5.28s\n",
            "Epoch 11\n",
            "CPU time: 6.93s, Wall time: 6.44s\n",
            "Epoch 12\n",
            "CPU time: 6.95s, Wall time: 5.59s\n",
            "Epoch 13\n",
            "CPU time: 6.88s, Wall time: 5.79s\n",
            "Epoch 14\n",
            "CPU time: 6.88s, Wall time: 5.70s\n",
            "Epoch 15\n",
            "CPU time: 6.78s, Wall time: 5.35s\n",
            "Epoch 16\n",
            "CPU time: 6.90s, Wall time: 6.04s\n",
            "Epoch 17\n",
            "CPU time: 6.74s, Wall time: 5.25s\n",
            "Epoch 18\n",
            "CPU time: 6.97s, Wall time: 6.04s\n",
            "Epoch 19\n",
            "CPU time: 6.76s, Wall time: 5.31s\n",
            "Epoch 20\n",
            "CPU time: 6.84s, Wall time: 5.95s\n",
            "Epoch 21\n",
            "CPU time: 6.81s, Wall time: 5.36s\n",
            "Epoch 22\n",
            "CPU time: 6.90s, Wall time: 6.03s\n",
            "Epoch 23\n",
            "CPU time: 6.85s, Wall time: 5.36s\n",
            "Epoch 24\n",
            "CPU time: 6.91s, Wall time: 6.04s\n",
            "Epoch 25\n",
            "CPU time: 6.81s, Wall time: 5.37s\n",
            "Epoch 26\n",
            "CPU time: 6.80s, Wall time: 5.58s\n",
            "Epoch 27\n",
            "CPU time: 6.95s, Wall time: 6.18s\n",
            "Epoch 28\n",
            "CPU time: 7.25s, Wall time: 9.07s\n",
            "Epoch 29\n",
            "CPU time: 7.82s, Wall time: 11.59s\n"
          ]
        }
      ],
      "source": [
        "for i in range(len(callbacks.times_cpu)):\n",
        "    print(\"Epoch {}\".format(i))\n",
        "    print(\"CPU time: {:.2f}s, Wall time: {:.2f}s\".format(callbacks.times_cpu[i], callbacks.times_wall[i]))\n"
      ]
    },
    {
      "cell_type": "code",
      "execution_count": null,
      "metadata": {
        "colab": {
          "base_uri": "https://localhost:8080/",
          "height": 486
        },
        "id": "FD-nhRw778ma",
        "outputId": "c67f2265-6f5e-4226-b109-52510ab1dfae"
      },
      "outputs": [
        {
          "output_type": "stream",
          "name": "stdout",
          "text": [
            "Loss and Accuracy vs Epochs\n"
          ]
        },
        {
          "output_type": "execute_result",
          "data": {
            "text/plain": [
              "(0.0, 1.0)"
            ]
          },
          "metadata": {},
          "execution_count": 20
        },
        {
          "output_type": "display_data",
          "data": {
            "text/plain": [
              "<Figure size 800x500 with 1 Axes>"
            ],
            "image/png": "[encoded data removed]"
          },
          "metadata": {}
        }
      ],
      "source": [
        "print(\"Loss and Accuracy vs Epochs\")\n",
        "pd.DataFrame(history.history).plot(figsize=(8, 5))\n",
        "plt.grid(True)\n",
        "plt.gca().set_ylim(0, 1) \n"
      ]
    },
    {
      "cell_type": "code",
      "execution_count": null,
      "metadata": {
        "colab": {
          "base_uri": "https://localhost:8080/"
        },
        "id": "4sgONWEXu42a",
        "outputId": "aec17f02-05a6-49b7-8d05-a06ac29ab4dc"
      },
      "outputs": [
        {
          "output_type": "stream",
          "name": "stdout",
          "text": [
            "The total wall clock time for fit is 209.76\n",
            "The CPU time for fit is 187.82\n"
          ]
        }
      ],
      "source": [
        "print(\"The total wall clock time for fit is {:.2f}\".format(cpu_end_time-cpu_start_time))\n",
        "print(\"The CPU time for fit is {:.2f}\".format(wall_end_time-wall_start_time))"
      ]
    },
    {
      "cell_type": "code",
      "execution_count": null,
      "metadata": {
        "colab": {
          "base_uri": "https://localhost:8080/"
        },
        "id": "hQS6xn2TBUUF",
        "outputId": "6e7c26f8-7b18-4da9-b150-45fc59fb091f",
        "scrolled": true
      },
      "outputs": [
        {
          "output_type": "stream",
          "name": "stdout",
          "text": [
            "313/313 [==============================] - 1s 2ms/step - loss: 0.3251 - accuracy: 0.8854\n"
          ]
        },
        {
          "output_type": "execute_result",
          "data": {
            "text/plain": [
              "[0.3250643312931061, 0.8853999972343445]"
            ]
          },
          "metadata": {},
          "execution_count": 22
        }
      ],
      "source": [
        "model.evaluate(X_test,y_test)"
      ]
    },
    {
      "cell_type": "code",
      "execution_count": null,
      "metadata": {
        "colab": {
          "base_uri": "https://localhost:8080/"
        },
        "id": "GyzCps3bBOGQ",
        "outputId": "b768867a-211c-43ec-b261-5a29c54c675d"
      },
      "outputs": [
        {
          "output_type": "stream",
          "name": "stdout",
          "text": [
            "313/313 [==============================] - 1s 2ms/step\n"
          ]
        }
      ],
      "source": [
        "y_pred=model.predict(X_test)"
      ]
    },
    {
      "cell_type": "code",
      "execution_count": null,
      "metadata": {
        "id": "PUEx7pLWHEu5"
      },
      "outputs": [],
      "source": [
        "y_pred_class=[]\n",
        "for each in y_pred:\n",
        "    j=np.argmax(each)\n",
        "    y_pred_class.append(j)"
      ]
    },
    {
      "cell_type": "code",
      "execution_count": null,
      "metadata": {
        "colab": {
          "base_uri": "https://localhost:8080/"
        },
        "id": "-TiCyrVXEidZ",
        "outputId": "5c2e0afc-6651-4f12-b817-37c0e0feee44"
      },
      "outputs": [
        {
          "output_type": "stream",
          "name": "stdout",
          "text": [
            "The accuracy score of model for test data is 0.885 \n"
          ]
        }
      ],
      "source": [
        "print(\"The accuracy score of model for test data is {:.3f} \" .format(accuracy_score(y_pred_class,y_test)))"
      ]
    },
    {
      "cell_type": "code",
      "execution_count": null,
      "metadata": {
        "colab": {
          "base_uri": "https://localhost:8080/"
        },
        "id": "NcqWcpbgFBgC",
        "outputId": "e72a86b4-e93c-4037-e515-d883c0fc9871"
      },
      "outputs": [
        {
          "output_type": "stream",
          "name": "stdout",
          "text": [
            "The precision score of model for test data is 0.887\n"
          ]
        }
      ],
      "source": [
        "\n",
        "print(\"The precision score of model for test data is {:.3f}\".format(precision_score(y_pred_class,y_test,average='weighted')))"
      ]
    },
    {
      "cell_type": "code",
      "execution_count": null,
      "metadata": {
        "colab": {
          "base_uri": "https://localhost:8080/"
        },
        "id": "6HinFO9yIsru",
        "outputId": "c5f5e457-360d-4e25-d91f-de851a9ee2e1"
      },
      "outputs": [
        {
          "output_type": "stream",
          "name": "stdout",
          "text": [
            "The recall score of model for test data is 0.885 \n"
          ]
        }
      ],
      "source": [
        "\n",
        "print(\"The recall score of model for test data is {:.3f} \" .format(recall_score(y_pred_class,y_test,average='weighted')))"
      ]
    },
    {
      "cell_type": "code",
      "execution_count": null,
      "metadata": {
        "id": "KOohKE6vKJsT"
      },
      "outputs": [],
      "source": [
        "\n",
        "conf_matrix=confusion_matrix(y_test,y_pred_class)\n"
      ]
    },
    {
      "cell_type": "code",
      "execution_count": null,
      "metadata": {
        "colab": {
          "base_uri": "https://localhost:8080/"
        },
        "id": "7Dn27fxrnJNe",
        "outputId": "217b85ae-cb4d-4be3-e97c-e1e165d5e71f"
      },
      "outputs": [
        {
          "output_type": "stream",
          "name": "stdout",
          "text": [
            "Class wise Precision and Recall are\n",
            "T-shirt/top\n",
            "Precision is 0.81\n",
            "Recall is 0.86\n",
            "Trouser\n",
            "Precision is 0.99\n",
            "Recall is 0.98\n",
            "Pullover\n",
            "Precision is 0.84\n",
            "Recall is 0.76\n",
            "Dress\n",
            "Precision is 0.86\n",
            "Recall is 0.92\n",
            "Coat\n",
            "Precision is 0.80\n",
            "Recall is 0.83\n",
            "Sandal\n",
            "Precision is 0.97\n",
            "Recall is 0.96\n",
            "Shirt\n",
            "Precision is 0.73\n",
            "Recall is 0.68\n",
            "Sneaker\n",
            "Precision is 0.93\n",
            "Recall is 0.95\n",
            "Bag\n",
            "Precision is 0.96\n",
            "Recall is 0.96\n",
            "Ankle boot\n",
            "Precision is 0.96\n",
            "Recall is 0.96\n"
          ]
        }
      ],
      "source": [
        "x=conf_matrix.sum(axis=0)\n",
        "y=conf_matrix.sum(axis=1)\n",
        "precision=[]\n",
        "recall=[]\n",
        "for i in range(0,len(conf_matrix)):\n",
        "  precision.append(round(conf_matrix[i][i]/x[i],2))\n",
        "  recall.append(round(conf_matrix[i][i]/y[i],2))\n",
        "print(\"Class wise Precision and Recall are\")\n",
        "for i in range(0,len(class_names)):\n",
        "    print(class_names[i])\n",
        "    print(\"Precision is {:.2f}\".format(precision[i]))\n",
        "    print(\"Recall is {:.2f}\".format(recall[i]))"
      ]
    },
    {
      "cell_type": "code",
      "execution_count": null,
      "metadata": {
        "colab": {
          "base_uri": "https://localhost:8080/"
        },
        "id": "qwaDrrQSLBvX",
        "outputId": "a697a88b-f36c-4628-94f0-b7c2b24c8ffa"
      },
      "outputs": [
        {
          "output_type": "stream",
          "name": "stdout",
          "text": [
            "Precision and recall Class wise\n"
          ]
        },
        {
          "output_type": "execute_result",
          "data": {
            "text/plain": [
              "['              precision    recall  f1-score   support',\n",
              " '',\n",
              " '           0       0.81      0.86      0.83      1000',\n",
              " '           1       0.99      0.97      0.98      1000',\n",
              " '           2       0.84      0.76      0.80      1000',\n",
              " '           3       0.86      0.92      0.89      1000',\n",
              " '           4       0.80      0.83      0.81      1000',\n",
              " '           5       0.97      0.96      0.96      1000',\n",
              " '           6       0.73      0.68      0.70      1000',\n",
              " '           7       0.93      0.95      0.94      1000',\n",
              " '           8       0.96      0.96      0.96      1000',\n",
              " '           9       0.96      0.95      0.96      1000',\n",
              " '',\n",
              " '    accuracy                           0.89     10000',\n",
              " '   macro avg       0.89      0.89      0.88     10000',\n",
              " 'weighted avg       0.89      0.89      0.88     10000',\n",
              " '']"
            ]
          },
          "metadata": {},
          "execution_count": 32
        }
      ],
      "source": [
        "print(\"Precision and recall Class wise\")\n",
        "classification_report(y_test,y_pred_class).split(\"\\n\")\n"
      ]
    },
    {
      "cell_type": "code",
      "execution_count": null,
      "metadata": {
        "id": "kGLmFY3-Lz0B"
      },
      "outputs": [],
      "source": [
        "from functools import partial\n",
        "\n",
        "DefaultConv2D = partial(tf.keras.layers.Conv2D, kernel_size=3, padding=\"same\",\n",
        "                        activation=\"relu\", kernel_initializer=\"he_normal\")\n",
        "model2= tf.keras.Sequential([\n",
        "    DefaultConv2D(filters=64, kernel_size=7, input_shape=[28, 28, 1]),\n",
        "    tf.keras.layers.MaxPool2D(),\n",
        "    DefaultConv2D(filters=128),\n",
        "    DefaultConv2D(filters=128),\n",
        "    tf.keras.layers.MaxPool2D(),\n",
        "    DefaultConv2D(filters=256),\n",
        "    DefaultConv2D(filters=256),\n",
        "    tf.keras.layers.MaxPool2D(),\n",
        "    tf.keras.layers.Flatten(),\n",
        "    tf.keras.layers.Dense(units=128, activation=\"relu\",\n",
        "                          kernel_initializer=\"he_normal\"),\n",
        "    tf.keras.layers.Dropout(0.5),\n",
        "    tf.keras.layers.Dense(units=64, activation=\"relu\",\n",
        "                          kernel_initializer=\"he_normal\"),\n",
        "    tf.keras.layers.Dropout(0.5),\n",
        "    tf.keras.layers.Dense(units=10, activation=\"softmax\")\n",
        "])"
      ]
    },
    {
      "cell_type": "code",
      "execution_count": null,
      "metadata": {
        "colab": {
          "base_uri": "https://localhost:8080/"
        },
        "id": "LCgbpdLDBOG3",
        "outputId": "e52e18c6-4839-4823-a1f3-3128e508097c"
      },
      "outputs": [
        {
          "output_type": "stream",
          "name": "stdout",
          "text": [
            "Model: \"sequential_1\"\n",
            "_________________________________________________________________\n",
            " Layer (type)                Output Shape              Param #   \n",
            "=================================================================\n",
            " conv2d (Conv2D)             (None, 28, 28, 64)        3200      \n",
            "                                                                 \n",
            " max_pooling2d (MaxPooling2D  (None, 14, 14, 64)       0         \n",
            " )                                                               \n",
            "                                                                 \n",
            " conv2d_1 (Conv2D)           (None, 14, 14, 128)       73856     \n",
            "                                                                 \n",
            " conv2d_2 (Conv2D)           (None, 14, 14, 128)       147584    \n",
            "                                                                 \n",
            " max_pooling2d_1 (MaxPooling  (None, 7, 7, 128)        0         \n",
            " 2D)                                                             \n",
            "                                                                 \n",
            " conv2d_3 (Conv2D)           (None, 7, 7, 256)         295168    \n",
            "                                                                 \n",
            " conv2d_4 (Conv2D)           (None, 7, 7, 256)         590080    \n",
            "                                                                 \n",
            " max_pooling2d_2 (MaxPooling  (None, 3, 3, 256)        0         \n",
            " 2D)                                                             \n",
            "                                                                 \n",
            " flatten_1 (Flatten)         (None, 2304)              0         \n",
            "                                                                 \n",
            " dense_3 (Dense)             (None, 128)               295040    \n",
            "                                                                 \n",
            " dropout (Dropout)           (None, 128)               0         \n",
            "                                                                 \n",
            " dense_4 (Dense)             (None, 64)                8256      \n",
            "                                                                 \n",
            " dropout_1 (Dropout)         (None, 64)                0         \n",
            "                                                                 \n",
            " dense_5 (Dense)             (None, 10)                650       \n",
            "                                                                 \n",
            "=================================================================\n",
            "Total params: 1,413,834\n",
            "Trainable params: 1,413,834\n",
            "Non-trainable params: 0\n",
            "_________________________________________________________________\n"
          ]
        }
      ],
      "source": [
        "model2.summary()"
      ]
    },
    {
      "cell_type": "code",
      "execution_count": null,
      "metadata": {
        "colab": {
          "base_uri": "https://localhost:8080/"
        },
        "id": "B1FPMwzsBOG5",
        "outputId": "978d4aa4-fa03-47f1-916d-47840a493cdf"
      },
      "outputs": [
        {
          "output_type": "execute_result",
          "data": {
            "text/plain": [
              "[<keras.layers.convolutional.conv2d.Conv2D at 0x7f5d89a753a0>,\n",
              " <keras.layers.pooling.max_pooling2d.MaxPooling2D at 0x7f5d89a75250>,\n",
              " <keras.layers.convolutional.conv2d.Conv2D at 0x7f5d89a75520>,\n",
              " <keras.layers.convolutional.conv2d.Conv2D at 0x7f5d89a6fbe0>,\n",
              " <keras.layers.pooling.max_pooling2d.MaxPooling2D at 0x7f5d80919820>,\n",
              " <keras.layers.convolutional.conv2d.Conv2D at 0x7f5e13f04640>,\n",
              " <keras.layers.convolutional.conv2d.Conv2D at 0x7f5d89a68c70>,\n",
              " <keras.layers.pooling.max_pooling2d.MaxPooling2D at 0x7f5d89a68ac0>,\n",
              " <keras.layers.reshaping.flatten.Flatten at 0x7f5d89b63fd0>,\n",
              " <keras.layers.core.dense.Dense at 0x7f5d89a62880>,\n",
              " <keras.layers.regularization.dropout.Dropout at 0x7f5d89a62b80>,\n",
              " <keras.layers.core.dense.Dense at 0x7f5d89a626d0>,\n",
              " <keras.layers.regularization.dropout.Dropout at 0x7f5d89a62700>,\n",
              " <keras.layers.core.dense.Dense at 0x7f5d89a56f70>]"
            ]
          },
          "metadata": {},
          "execution_count": 35
        }
      ],
      "source": [
        "model2.layers"
      ]
    },
    {
      "cell_type": "code",
      "execution_count": null,
      "metadata": {
        "id": "auBTI58PBOG6"
      },
      "outputs": [],
      "source": [
        "model2.compile(loss=\"sparse_categorical_crossentropy\",\n",
        " optimizer=\"sgd\",\n",
        " metrics=[\"accuracy\"])\n"
      ]
    },
    {
      "cell_type": "code",
      "execution_count": null,
      "metadata": {
        "colab": {
          "base_uri": "https://localhost:8080/"
        },
        "id": "M9h1twF9BOG7",
        "outputId": "bb21844c-d529-468c-e8dd-5e1840f987f4"
      },
      "outputs": [
        {
          "output_type": "stream",
          "name": "stdout",
          "text": [
            "Epoch 1/30\n",
            "1719/1719 [==============================] - 19s 7ms/step - loss: 0.9923 - accuracy: 0.6455 - val_loss: 0.4728 - val_accuracy: 0.8256\n",
            "Epoch 2/30\n",
            "1719/1719 [==============================] - 12s 7ms/step - loss: 0.6088 - accuracy: 0.7858 - val_loss: 0.4134 - val_accuracy: 0.8454\n",
            "Epoch 3/30\n",
            "1719/1719 [==============================] - 12s 7ms/step - loss: 0.5147 - accuracy: 0.8243 - val_loss: 0.3928 - val_accuracy: 0.8554\n",
            "Epoch 4/30\n",
            "1719/1719 [==============================] - 12s 7ms/step - loss: 0.4548 - accuracy: 0.8460 - val_loss: 0.3450 - val_accuracy: 0.8738\n",
            "Epoch 5/30\n",
            "1719/1719 [==============================] - 12s 7ms/step - loss: 0.4249 - accuracy: 0.8575 - val_loss: 0.3319 - val_accuracy: 0.8760\n",
            "Epoch 6/30\n",
            "1719/1719 [==============================] - 12s 7ms/step - loss: 0.3946 - accuracy: 0.8687 - val_loss: 0.3101 - val_accuracy: 0.8898\n",
            "Epoch 7/30\n",
            "1719/1719 [==============================] - 12s 7ms/step - loss: 0.3680 - accuracy: 0.8760 - val_loss: 0.2949 - val_accuracy: 0.8952\n",
            "Epoch 8/30\n",
            "1719/1719 [==============================] - 12s 7ms/step - loss: 0.3492 - accuracy: 0.8836 - val_loss: 0.2932 - val_accuracy: 0.8918\n",
            "Epoch 9/30\n",
            "1719/1719 [==============================] - 12s 7ms/step - loss: 0.3304 - accuracy: 0.8901 - val_loss: 0.2686 - val_accuracy: 0.9016\n",
            "Epoch 10/30\n",
            "1719/1719 [==============================] - 12s 7ms/step - loss: 0.3127 - accuracy: 0.8945 - val_loss: 0.2757 - val_accuracy: 0.9028\n",
            "Epoch 11/30\n",
            "1719/1719 [==============================] - 12s 7ms/step - loss: 0.2966 - accuracy: 0.9005 - val_loss: 0.2629 - val_accuracy: 0.9062\n",
            "Epoch 12/30\n",
            "1719/1719 [==============================] - 12s 7ms/step - loss: 0.2836 - accuracy: 0.9048 - val_loss: 0.2588 - val_accuracy: 0.9088\n",
            "Epoch 13/30\n",
            "1719/1719 [==============================] - 12s 7ms/step - loss: 0.2713 - accuracy: 0.9085 - val_loss: 0.2583 - val_accuracy: 0.9116\n",
            "Epoch 14/30\n",
            "1719/1719 [==============================] - 12s 7ms/step - loss: 0.2614 - accuracy: 0.9134 - val_loss: 0.2460 - val_accuracy: 0.9134\n",
            "Epoch 15/30\n",
            "1719/1719 [==============================] - 12s 7ms/step - loss: 0.2491 - accuracy: 0.9164 - val_loss: 0.2513 - val_accuracy: 0.9090\n",
            "Epoch 16/30\n",
            "1719/1719 [==============================] - 12s 7ms/step - loss: 0.2366 - accuracy: 0.9203 - val_loss: 0.2560 - val_accuracy: 0.9080\n",
            "Epoch 17/30\n",
            "1719/1719 [==============================] - 12s 7ms/step - loss: 0.2271 - accuracy: 0.9242 - val_loss: 0.2578 - val_accuracy: 0.9136\n",
            "Epoch 18/30\n",
            "1719/1719 [==============================] - 12s 7ms/step - loss: 0.2147 - accuracy: 0.9280 - val_loss: 0.3163 - val_accuracy: 0.8882\n",
            "Epoch 19/30\n",
            "1719/1719 [==============================] - 12s 7ms/step - loss: 0.2078 - accuracy: 0.9300 - val_loss: 0.2513 - val_accuracy: 0.9136\n",
            "Epoch 20/30\n",
            "1719/1719 [==============================] - 12s 7ms/step - loss: 0.1998 - accuracy: 0.9323 - val_loss: 0.2512 - val_accuracy: 0.9112\n",
            "Epoch 21/30\n",
            "1719/1719 [==============================] - 12s 7ms/step - loss: 0.1881 - accuracy: 0.9359 - val_loss: 0.2474 - val_accuracy: 0.9156\n",
            "Epoch 22/30\n",
            "1719/1719 [==============================] - 12s 7ms/step - loss: 0.1832 - accuracy: 0.9380 - val_loss: 0.2519 - val_accuracy: 0.9180\n",
            "Epoch 23/30\n",
            "1719/1719 [==============================] - 12s 7ms/step - loss: 0.1704 - accuracy: 0.9423 - val_loss: 0.2448 - val_accuracy: 0.9160\n",
            "Epoch 24/30\n",
            "1719/1719 [==============================] - 12s 7ms/step - loss: 0.1629 - accuracy: 0.9446 - val_loss: 0.2702 - val_accuracy: 0.9182\n",
            "Epoch 25/30\n",
            "1719/1719 [==============================] - 12s 7ms/step - loss: 0.1534 - accuracy: 0.9484 - val_loss: 0.2477 - val_accuracy: 0.9200\n",
            "Epoch 26/30\n",
            "1719/1719 [==============================] - 12s 7ms/step - loss: 0.1497 - accuracy: 0.9491 - val_loss: 0.2687 - val_accuracy: 0.9164\n",
            "Epoch 27/30\n",
            "1719/1719 [==============================] - 12s 7ms/step - loss: 0.1376 - accuracy: 0.9530 - val_loss: 0.2706 - val_accuracy: 0.9176\n",
            "Epoch 28/30\n",
            "1719/1719 [==============================] - 12s 7ms/step - loss: 0.1330 - accuracy: 0.9554 - val_loss: 0.2865 - val_accuracy: 0.9154\n",
            "Epoch 29/30\n",
            "1719/1719 [==============================] - 12s 7ms/step - loss: 0.1281 - accuracy: 0.9559 - val_loss: 0.2908 - val_accuracy: 0.9232\n",
            "Epoch 30/30\n",
            "1719/1719 [==============================] - 12s 7ms/step - loss: 0.1218 - accuracy: 0.9583 - val_loss: 0.2950 - val_accuracy: 0.9178\n"
          ]
        }
      ],
      "source": [
        "callbacks=TimeHistory()\n",
        "cpu_start_time = time.process_time()\n",
        "wall_start_time = time.time()\n",
        "history = model2.fit(X_train, y_train, epochs=30,\n",
        "                 validation_data=(X_valid, y_valid), callbacks = [callbacks])\n",
        "cpu_end_time = time.process_time()\n",
        "wall_end_time = time.time()"
      ]
    },
    {
      "cell_type": "code",
      "execution_count": null,
      "metadata": {
        "colab": {
          "base_uri": "https://localhost:8080/",
          "height": 486
        },
        "id": "1yqpna02BOG8",
        "outputId": "593d47c8-c03e-42ec-afda-77d0bd30302e"
      },
      "outputs": [
        {
          "output_type": "stream",
          "name": "stdout",
          "text": [
            "Loss and Accuracy vs Epochs\n"
          ]
        },
        {
          "output_type": "execute_result",
          "data": {
            "text/plain": [
              "(0.0, 1.0)"
            ]
          },
          "metadata": {},
          "execution_count": 38
        },
        {
          "output_type": "display_data",
          "data": {
            "text/plain": [
              "<Figure size 800x500 with 1 Axes>"
            ],
            "image/png": "[encoded data removed]"
          },
          "metadata": {}
        }
      ],
      "source": [
        "print(\"Loss and Accuracy vs Epochs\")\n",
        "pd.DataFrame(history.history).plot(figsize=(8, 5))\n",
        "plt.grid(True)\n",
        "plt.gca().set_ylim(0, 1) \n"
      ]
    },
    {
      "cell_type": "code",
      "source": [
        "for i in range(len(callbacks.times_cpu)):\n",
        "    print(\"Epoch {}\".format(i))\n",
        "    print(\"CPU time: {:.2f}s, Wall time: {:.2f}s\".format(callbacks.times_cpu[i], callbacks.times_wall[i]))"
      ],
      "metadata": {
        "colab": {
          "base_uri": "https://localhost:8080/"
        },
        "id": "qixzxuItEF4u",
        "outputId": "4ce8cd14-347c-4d78-ef17-adf131e6e57c"
      },
      "execution_count": null,
      "outputs": [
        {
          "output_type": "stream",
          "name": "stdout",
          "text": [
            "Epoch 0\n",
            "CPU time: 15.75s, Wall time: 19.45s\n",
            "Epoch 1\n",
            "CPU time: 12.26s, Wall time: 11.90s\n",
            "Epoch 2\n",
            "CPU time: 12.39s, Wall time: 12.01s\n",
            "Epoch 3\n",
            "CPU time: 12.34s, Wall time: 12.08s\n",
            "Epoch 4\n",
            "CPU time: 12.44s, Wall time: 12.31s\n",
            "Epoch 5\n",
            "CPU time: 12.31s, Wall time: 12.09s\n",
            "Epoch 6\n",
            "CPU time: 12.29s, Wall time: 12.23s\n",
            "Epoch 7\n",
            "CPU time: 12.33s, Wall time: 12.36s\n",
            "Epoch 8\n",
            "CPU time: 12.28s, Wall time: 12.27s\n",
            "Epoch 9\n",
            "CPU time: 12.35s, Wall time: 12.30s\n",
            "Epoch 10\n",
            "CPU time: 12.26s, Wall time: 12.04s\n",
            "Epoch 11\n",
            "CPU time: 12.25s, Wall time: 12.23s\n",
            "Epoch 12\n",
            "CPU time: 12.35s, Wall time: 12.09s\n",
            "Epoch 13\n",
            "CPU time: 12.30s, Wall time: 12.08s\n",
            "Epoch 14\n",
            "CPU time: 12.33s, Wall time: 12.06s\n",
            "Epoch 15\n",
            "CPU time: 12.30s, Wall time: 12.26s\n",
            "Epoch 16\n",
            "CPU time: 12.33s, Wall time: 12.10s\n",
            "Epoch 17\n",
            "CPU time: 12.30s, Wall time: 12.18s\n",
            "Epoch 18\n",
            "CPU time: 12.22s, Wall time: 12.19s\n",
            "Epoch 19\n",
            "CPU time: 12.35s, Wall time: 12.10s\n",
            "Epoch 20\n",
            "CPU time: 12.39s, Wall time: 12.25s\n",
            "Epoch 21\n",
            "CPU time: 12.28s, Wall time: 12.05s\n",
            "Epoch 22\n",
            "CPU time: 12.34s, Wall time: 12.32s\n",
            "Epoch 23\n",
            "CPU time: 12.23s, Wall time: 12.04s\n",
            "Epoch 24\n",
            "CPU time: 12.20s, Wall time: 12.20s\n",
            "Epoch 25\n",
            "CPU time: 12.25s, Wall time: 12.25s\n",
            "Epoch 26\n",
            "CPU time: 12.30s, Wall time: 12.20s\n",
            "Epoch 27\n",
            "CPU time: 12.23s, Wall time: 12.14s\n",
            "Epoch 28\n",
            "CPU time: 12.22s, Wall time: 12.16s\n",
            "Epoch 29\n",
            "CPU time: 12.26s, Wall time: 12.21s\n"
          ]
        }
      ]
    },
    {
      "cell_type": "code",
      "source": [
        "print(\"The total wall clock time for fit is {:.2f}\".format(cpu_end_time-cpu_start_time))\n",
        "print(\"The CPU time for fit is {:.2f}\".format(wall_end_time-wall_start_time))"
      ],
      "metadata": {
        "colab": {
          "base_uri": "https://localhost:8080/"
        },
        "id": "Fl8CjNXwESwI",
        "outputId": "eca14808-1384-4399-b5fc-3410d2d86990"
      },
      "execution_count": null,
      "outputs": [
        {
          "output_type": "stream",
          "name": "stdout",
          "text": [
            "The total wall clock time for fit is 372.98\n",
            "The CPU time for fit is 373.06\n"
          ]
        }
      ]
    },
    {
      "cell_type": "code",
      "source": [
        "model2.evaluate(X_test,y_test)\n"
      ],
      "metadata": {
        "colab": {
          "base_uri": "https://localhost:8080/"
        },
        "id": "tJLJpBZeEcgQ",
        "outputId": "c7e2a96d-35e5-423a-9243-af5e829a97a9"
      },
      "execution_count": null,
      "outputs": [
        {
          "output_type": "stream",
          "name": "stdout",
          "text": [
            "313/313 [==============================] - 2s 6ms/step - loss: 0.3021 - accuracy: 0.9188\n"
          ]
        },
        {
          "output_type": "execute_result",
          "data": {
            "text/plain": [
              "[0.30207359790802, 0.9187999963760376]"
            ]
          },
          "metadata": {},
          "execution_count": 41
        }
      ]
    },
    {
      "cell_type": "code",
      "source": [
        "y_pred=model2.predict(X_test)"
      ],
      "metadata": {
        "colab": {
          "base_uri": "https://localhost:8080/"
        },
        "id": "gNdMqMQdEruJ",
        "outputId": "f7788aec-dddd-4ff8-a31d-7f18f6a4726f"
      },
      "execution_count": null,
      "outputs": [
        {
          "output_type": "stream",
          "name": "stdout",
          "text": [
            "313/313 [==============================] - 1s 2ms/step\n"
          ]
        }
      ]
    },
    {
      "cell_type": "code",
      "source": [
        "y_pred_class=[]\n",
        "for each in y_pred:\n",
        "    j=np.argmax(each)\n",
        "    y_pred_class.append(j)"
      ],
      "metadata": {
        "id": "gjsLsANFEySU"
      },
      "execution_count": null,
      "outputs": []
    },
    {
      "cell_type": "code",
      "source": [
        "print(\"The accuracy score of model for test data is {:.3f} \" .format(accuracy_score(y_pred_class,y_test)))\n",
        "print(\"The precision score of model for test data is {:.3f}\".format(precision_score(y_pred_class,y_test,average='weighted')))\n",
        "print(\"The recall score of model for test data is {:.3f} \" .format(recall_score(y_pred_class,y_test,average='weighted')))\n",
        "conf_matrix=confusion_matrix(y_test,y_pred_class)"
      ],
      "metadata": {
        "colab": {
          "base_uri": "https://localhost:8080/"
        },
        "id": "-6wapT6tE5HC",
        "outputId": "7d637458-09a6-4119-88cb-7d7e374c7358"
      },
      "execution_count": null,
      "outputs": [
        {
          "output_type": "stream",
          "name": "stdout",
          "text": [
            "The accuracy score of model for test data is 0.919 \n",
            "The precision score of model for test data is 0.921\n",
            "The recall score of model for test data is 0.919 \n"
          ]
        }
      ]
    },
    {
      "cell_type": "code",
      "source": [
        "conf_matrix=confusion_matrix(y_pred_class,y_test)\n",
        "x=conf_matrix.sum(axis=0)\n",
        "y=conf_matrix.sum(axis=1)\n",
        "precision=[]\n",
        "recall=[]\n",
        "for i in range(0,len(conf_matrix)):\n",
        "  precision.append(round(conf_matrix[i][i]/x[i],2))\n",
        "  recall.append(round(conf_matrix[i][i]/y[i],2))\n",
        "print(\"Class wise Precision and Recall are\")\n",
        "for i in range(0,len(class_names)):\n",
        "    print(class_names[i])\n",
        "    print(\"Precision is {:.2f}\".format(precision[i]))\n",
        "    print(\"Recall is {:.2f}\".format(recall[i]))"
      ],
      "metadata": {
        "colab": {
          "base_uri": "https://localhost:8080/"
        },
        "id": "neboOn1TFLAt",
        "outputId": "e0d61ee3-f7e3-4c13-c2d5-f3cd601016f4"
      },
      "execution_count": null,
      "outputs": [
        {
          "output_type": "stream",
          "name": "stdout",
          "text": [
            "Class wise Precision and Recall are\n",
            "T-shirt/top\n",
            "Precision is 0.88\n",
            "Recall is 0.85\n",
            "Trouser\n",
            "Precision is 0.98\n",
            "Recall is 0.99\n",
            "Pullover\n",
            "Precision is 0.85\n",
            "Recall is 0.88\n",
            "Dress\n",
            "Precision is 0.93\n",
            "Recall is 0.90\n",
            "Coat\n",
            "Precision is 0.90\n",
            "Recall is 0.84\n",
            "Sandal\n",
            "Precision is 0.98\n",
            "Recall is 0.98\n",
            "Shirt\n",
            "Precision is 0.73\n",
            "Recall is 0.81\n",
            "Sneaker\n",
            "Precision is 0.97\n",
            "Recall is 0.96\n",
            "Bag\n",
            "Precision is 0.99\n",
            "Recall is 0.98\n",
            "Ankle boot\n",
            "Precision is 0.97\n",
            "Recall is 0.97\n"
          ]
        }
      ]
    },
    {
      "cell_type": "code",
      "source": [
        "classification_report(y_pred_class,y_test).split(\"\\n\")"
      ],
      "metadata": {
        "colab": {
          "base_uri": "https://localhost:8080/"
        },
        "id": "-rW3BTzlFg_l",
        "outputId": "ce94e024-2c09-4d79-f99e-f6bc07c51d18"
      },
      "execution_count": null,
      "outputs": [
        {
          "output_type": "execute_result",
          "data": {
            "text/plain": [
              "['              precision    recall  f1-score   support',\n",
              " '',\n",
              " '           0       0.88      0.85      0.87      1037',\n",
              " '           1       0.98      0.99      0.99       990',\n",
              " '           2       0.85      0.88      0.87       967',\n",
              " '           3       0.93      0.90      0.92      1035',\n",
              " '           4       0.90      0.84      0.87      1062',\n",
              " '           5       0.98      0.98      0.98       998',\n",
              " '           6       0.73      0.81      0.76       900',\n",
              " '           7       0.97      0.96      0.97      1013',\n",
              " '           8       0.99      0.98      0.99      1004',\n",
              " '           9       0.97      0.97      0.97       994',\n",
              " '',\n",
              " '    accuracy                           0.92     10000',\n",
              " '   macro avg       0.92      0.92      0.92     10000',\n",
              " 'weighted avg       0.92      0.92      0.92     10000',\n",
              " '']"
            ]
          },
          "metadata": {},
          "execution_count": 48
        }
      ]
    }
  ],
  "metadata": {
    "accelerator": "GPU",
    "colab": {
      "provenance": [],
      "include_colab_link": true
    },
    "gpuClass": "standard",
    "kernelspec": {
      "display_name": "Python 3",
      "language": "python",
      "name": "python3"
    },
    "language_info": {
      "codemirror_mode": {
        "name": "ipython",
        "version": 3
      },
      "file_extension": ".py",
      "mimetype": "text/x-python",
      "name": "python",
      "nbconvert_exporter": "python",
      "pygments_lexer": "ipython3",
      "version": "3.8.8"
    }
  },
  "nbformat": 4,
  "nbformat_minor": 0
}